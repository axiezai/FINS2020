{
 "cells": [
  {
   "cell_type": "code",
   "execution_count": 1,
   "metadata": {},
   "outputs": [],
   "source": [
    "from ipywidgets import interactive, widgets, fixed\n",
    "from surfer import Brain as surface\n",
    "from matplotlib.colors import ListedColormap\n",
    "from sklearn.preprocessing import minmax_scale\n",
    "\n",
    "import os\n",
    "import nibabel as nib\n",
    "import numpy as np\n",
    "import pandas as pd\n",
    "import matplotlib.pyplot as plt\n",
    "\n",
    "# spectrome imports\n",
    "from spectrome.brain import Brain\n",
    "from spectrome.utils import functions, path"
   ]
  },
  {
   "cell_type": "code",
   "execution_count": 2,
   "metadata": {},
   "outputs": [],
   "source": [
    "%gui qt\n",
    "\n",
    "# set up Pysurfer variables\n",
    "subject_id = \"fsaverage\"\n",
    "hemi = [\"lh\",\"rh\"]\n",
    "surf = \"white\"\n",
    "\n",
    "\"\"\"\n",
    "Read in the automatic parcellation of sulci and gyri.\n",
    "\"\"\"\n",
    "\n",
    "hemi_side = \"lh\"\n",
    "aparc_file = os.path.join(os.environ[\"SUBJECTS_DIR\"],\n",
    "                          subject_id, \"label\",\n",
    "                          hemi_side + \".aparc.annot\")\n",
    "labels, ctab, names = nib.freesurfer.read_annot(aparc_file)"
   ]
  },
  {
   "cell_type": "code",
   "execution_count": 3,
   "metadata": {},
   "outputs": [],
   "source": [
    "# function for viewing canonical networks:\n",
    "def get_fc_values(fc_df, labels, fc_name):\n",
    "    # get our data ready in both hemispheres\n",
    "    fc_network = fc_df.loc[fc_name].values\n",
    "    lh_cort = minmax_scale(fc_network[0:34])\n",
    "    rh_cort = minmax_scale(fc_network[34:68])\n",
    "\n",
    "    # for pysurfer requirements\n",
    "    lh_pad = np.insert(lh_cort, [0, 3], [0, 0])\n",
    "    rh_pad = np.insert(rh_cort, [0, 3], [0, 0])\n",
    "\n",
    "    lh_fc = lh_pad[labels]\n",
    "    rh_fc = rh_pad[labels]\n",
    "\n",
    "    fc_brain = surface(\n",
    "        subject_id,\n",
    "        \"both\",\n",
    "        surf,\n",
    "        background=\"white\",\n",
    "        alpha=1,\n",
    "        title=\"Canonical Networks\",\n",
    "    )\n",
    "    fc_brain.hide_colorbar()\n",
    "    fc_brain.add_data(lh_fc, hemi=\"lh\", thresh=0.15, colormap=plt.cm.autumn_r, remove_existing=True)\n",
    "    fc_brain.add_data(rh_fc, hemi=\"rh\", thresh=0.15, colormap=plt.cm.autumn_r, remove_existing=True)\n",
    "    #fc_brain.scale_data_colormap(color_fmin, color_fmid, color_fmax, transparent=False)\n",
    "    return lh_fc, rh_fc"
   ]
  },
  {
   "cell_type": "code",
   "execution_count": 4,
   "metadata": {},
   "outputs": [],
   "source": [
    "fc_names = [\n",
    "    \"Visual\",\n",
    "    \"Limbic\",\n",
    "    \"Default\",\n",
    "    \"Somatomotor\",\n",
    "    \"Frontoparietal\",\n",
    "    \"Ventral_Attention\",\n",
    "    \"Dorsal_Attention\",\n",
    "]\n",
    "# Load Pablo's canonical networks in DK atlas:\n",
    "fc_dk = np.load(\"/Users/xxie/lab/complex_laplacian/data/com_dk.npy\", allow_pickle=True).item()\n",
    "fc_dk_normalized = pd.read_csv(\"/Users/xxie/lab/complex_laplacian/data/DK_dictionary_normalized.csv\").set_index(\n",
    "    \"Unnamed: 0\"\n",
    ")"
   ]
  },
  {
   "cell_type": "markdown",
   "metadata": {
    "slideshow": {
     "slide_type": "slide"
    }
   },
   "source": [
    "<p style = \"text-align:center; font-size:200%;\">How do functional brain networks emerge from the underlying wiring of the brain</p>\n",
    "<p style = \"text-align:center; font-size:120%;\"><em>Frontiers in Neuropsychiatry Seminars</em></p>\n",
    "\n",
    "<center>\n",
    "<img src = \"../assets/tract_viz.gif\" alt = \"intro\" width = \"400\" style = \"align:center\"/>\n",
    "</center>\n",
    "\n",
    "<p style = \"text-align:center; font-size:110%;\">Xi He Xie</p>\n",
    "<p style = \"text-align:center; font-size:110%;\">Department of Neuroscience, Weill Cornell Medicine</p>\n",
    "<p style = \"text-align:center; font-size:110%;\"> Visiting Graduate, University of California San Francisco </p>\n",
    "<p style = \"text-align:center; font-size:110%;\">October 13th, 2020</p>"
   ]
  },
  {
   "cell_type": "markdown",
   "metadata": {
    "slideshow": {
     "slide_type": "slide"
    }
   },
   "source": [
    "What's so special about the human brain?\n",
    "---\n",
    "\n",
    " - Humans have the remarkable ability to invent symbol systems such as the arabic numeric system or the alphabet.\n",
    "\n",
    "<center>\n",
    "    <img src = \"../assets/lost_data.png\" alt = \"messy_data\" width = \"1200\" style = \"align:center\" />\n",
    "</center>\n",
    "\n",
    "<aside class=\"notes\">\n",
    "Before I start talking in jargons and data, let's think for a second. I'm sure everyone here had days like this guy, we are constantly reading papers, crunching data, doing numerical analysis, and it can get extremely messy if you don't practice good organizational routines. Despite all that, our brains are still efficiently taking these symbols, putting them into context, and processes the complicated information... if you had enough coffee\n",
    "</aside>"
   ]
  },
  {
   "cell_type": "markdown",
   "metadata": {
    "slideshow": {
     "slide_type": "slide"
    }
   },
   "source": [
    "#### Exercise:\n",
    "\n",
    " - What is so special about human brain functionality that allows it to expand its functionality to acquire these cultural tools? (Language, reading, arithmetics) Let's examine the two possible hypothesis:"
   ]
  },
  {
   "cell_type": "markdown",
   "metadata": {
    "slideshow": {
     "slide_type": "fragment"
    }
   },
   "source": [
    " 1) Cultural functionality is acquired by expanded cortical plasticity unique to humans.\n",
    "     \n",
    "\n",
    "2) Humans have evolved new specialized circuitry, each providing new cognitive functions.\n",
    "\n",
    "<aside class=\"notes\">\n",
    "On one extreme, you can have (1), on the other you can have (2). So very quickly, by a show of hands, who agrees with 1? la la la... who agrees with (2)?\n",
    "    \n",
    " \n",
    "</aside>"
   ]
  },
  {
   "cell_type": "markdown",
   "metadata": {
    "slideshow": {
     "slide_type": "skip"
    }
   },
   "source": [
    " - Human brians accomodate a broad range of new functions through learning.\n",
    " - At the extreme, the brain's architecture exerts little to no contraints on the range of competence we can acquire.\n",
    " - This may also suggest individual brain's implementation of cultural abilities is highly variable across individuals."
   ]
  },
  {
   "cell_type": "markdown",
   "metadata": {
    "slideshow": {
     "slide_type": "skip"
    }
   },
   "source": [
    " - Humans experienced evolutionary pressure to develop brain circuitry for understanding symbols?\n",
    " - But reading was invented ~5000 years ago, and artihmetics even more recent!"
   ]
  },
  {
   "cell_type": "markdown",
   "metadata": {
    "slideshow": {
     "slide_type": "subslide"
    }
   },
   "source": [
    " - Primates have prior brain functions and structures that were eventually adapted and efficiently used by humans.\n",
    " \n",
    "<center>\n",
    "    <img src = \"../assets/xkcd_surgery.png\" alt = \"xkcd\" width = \"1200\" style = \"align:center\" />\n",
    "<center/>\n",
    "<aside class=\"notes\">\n",
    "So this is from xkcd, and it's true there's an xkcd comic for everything. The brain's structure itself stays the same, but when our ancestors acquire new tools like symbols in arithmetics and reading, their brains adapted what was already available in primate brains and expand it's capabilities like a software update.\n",
    "</aside>"
   ]
  },
  {
   "cell_type": "markdown",
   "metadata": {
    "slideshow": {
     "slide_type": "slide"
    }
   },
   "source": [
    "### The structure-function problem in neuroscience:\n",
    "The brain's structure at various spatial scales is critical for determining its function."
   ]
  },
  {
   "cell_type": "markdown",
   "metadata": {
    "slideshow": {
     "slide_type": "fragment"
    }
   },
   "source": [
    "<b>My thesis' interest in particular: Finding the relationship between the brain's <em>structural wiring</em> and the <em>functional</em> patterns of neural activity.</b>\n",
    " - Consider the brain to be a macroscopic network of nodes and edges:\n",
    "     - Identifiable gray matter brain regions of interest (ROIs)\n",
    "     - Long range connections between brain regions via white matter fiber bundles"
   ]
  },
  {
   "cell_type": "markdown",
   "metadata": {
    "slideshow": {
     "slide_type": "fragment"
    }
   },
   "source": [
    "<center>\n",
    "    <img src = \"../assets/brain_nodes_edges.png\" alt = \"braingraph\" width = \"400\" style = \"align:right\"/>\n",
    "</center>"
   ]
  },
  {
   "cell_type": "markdown",
   "metadata": {
    "slideshow": {
     "slide_type": "fragment"
    }
   },
   "source": [
    "#### We can measure structure and function non-invasively in humans with ..."
   ]
  },
  {
   "cell_type": "markdown",
   "metadata": {
    "slideshow": {
     "slide_type": "subslide"
    }
   },
   "source": [
    "### Structural data: diffusion weighted imaging\n",
    "<center>\n",
    "    <img src = \"../assets/tract_viz.gif\" alt = \"dti\" width = \"1200\" style = \"align:center\"/>\n",
    "</center>"
   ]
  },
  {
   "cell_type": "markdown",
   "metadata": {
    "slideshow": {
     "slide_type": "subslide"
    }
   },
   "source": [
    "#### Quantify all the traced white matter fiber tracts between all brain regions into a matrix (Structural connectivity)"
   ]
  },
  {
   "cell_type": "markdown",
   "metadata": {
    "slideshow": {
     "slide_type": "fragment"
    }
   },
   "source": [
    "<center>\n",
    "<img src = \"../assets/SC-example.png\" alt = \"SCmatrix\" width = \"1000\" style = \"align:center\"/>\n",
    "</center>\n",
    "<aside class=\"notes\">\n",
    "Now we align both the white matter fibers and our anatomical MRI scans, from each of these ROIs, we can start counting the number of fibers going to each of the other connected regions, and summarize all the connections in this connectivity matrix. The brain is what we like to call a small world network, where there are dense local connections for specialized function, and long range connections for integration of function with other hubs of connections. Just the inter- and intra- hemispheric connections you see here, dense within hemisphere, sparse across hemispheres.\n",
    "</aside>"
   ]
  },
  {
   "cell_type": "markdown",
   "metadata": {
    "slideshow": {
     "slide_type": "subslide"
    }
   },
   "source": [
    "# What about functional data?\n",
    "### 1) Human Magnetoencephalography (MEG) frequency spectrum:\n",
    "<center>\n",
    "    <img src = \"../assets/meg_spectrum_example.png\" alt = \"actualmeg\" width = \"1200\" style = \"align:center\"/>\n",
    "</center>\n",
    "<aside class=\"notes\">\n",
    "The first functional human brain data we collect is called MEG. Where we have our subjects sit inside an expensive insulated room under an even more expensive helmet. The helmet is cooled to near absolute zero to cool down the SQUIDS (superconducting quantum interference devices), these sensors can detect subtle changes in magnetic field as induced by evoked currents from the neurons. Anyone remember the right hand rule from physics class?\n",
    "    \n",
    "The result from each sensor is then mapped to our brain regions of interest, but we don't like looking at it over time, because all we would see are squiggly oscillatory lines. So we decompose these oscillations into combinations of sin/cos waves of various frequencies and power, and plot them here in what we call a power spectrum. Humans have very replicable and similar power spectrums, where we have idenfiable delta, theta, alpha, beta, gamma waves. The alpha wave usually stands out the most, if everyone closed their eyse right now, the 10 Hz signal in the posterior regions of your brain would just light up! And beta band is often mentioned in motor tasks with beta suppresion at the lateral motor cortex\n",
    "</aside>"
   ]
  },
  {
   "cell_type": "markdown",
   "metadata": {
    "slideshow": {
     "slide_type": "fragment"
    }
   },
   "source": [
    "<center>\n",
    "    <img src = \"../ACCESS2020/images/fmri_modalities.png\" alt=\"fmri\" width=\"1300\" style=\"align:center\" />\n",
    "</center>\n",
    "\n",
    "<aside class=\"notes\">\n",
    "Structural: The hydrogen molecules in our bodies contains 1 positive charge (protons), like the earth spinning on its axis with magnetic poles, each spinning charged molecule is also like a tiny magnet that spins around it's own axis. MRI uses magnetic fields and radio waves to measure locations of these molecules. These protons are all in random directions, the MRI machine uses a magnet that ranges from 1-7 Teslas to align all our protons in specific directions. For reference, the earth's magnetic field is ~0.6e-4T. The scanners produce a magnetic field that's 60,000 times stronger! \n",
    "fMRI: In our brains, we have billions of neurons, when a lot of these neurons begin to fire, the body rushes in oxygen to help supply energy. This is called a hemodynamic response, and what we measure is called blood oxygen level dependent signal (BOLD). \n",
    "DWI: The brain is connected by long distance projections called axonal fiber tracts. We specifically track the movement of water molecules inside the brain. And build a gradient of water diffusion. \n",
    "</aside>"
   ]
  },
  {
   "cell_type": "markdown",
   "metadata": {
    "slideshow": {
     "slide_type": "subslide"
    }
   },
   "source": [
    "2) Canonical Functional Networks\n",
    "---\n",
    " - Obtained from resting-state fMRI recordings\n",
    " - Consistently observed functional networks in both resting-state fMRI and MEG\n",
    " - There are seven of these prominent, most frequently visited functional networks identified by neuroimaging studies."
   ]
  },
  {
   "cell_type": "code",
   "execution_count": 5,
   "metadata": {
    "slideshow": {
     "slide_type": "fragment"
    }
   },
   "outputs": [
    {
     "data": {
      "application/vnd.jupyter.widget-view+json": {
       "model_id": "05711aae75c44b709ab2b5b9a8bf434a",
       "version_major": 2,
       "version_minor": 0
      },
      "text/plain": [
       "interactive(children=(RadioButtons(description='Select canonical network', index=1, options=('Visual', 'Limbic…"
      ]
     },
     "metadata": {},
     "output_type": "display_data"
    }
   ],
   "source": [
    "interactive(\n",
    "    get_fc_values,\n",
    "    fc_df=fixed(fc_dk_normalized),\n",
    "    labels=fixed(labels),\n",
    "    fc_name=widgets.RadioButtons(\n",
    "        options=fc_names, value=\"Limbic\", description=\"Select canonical network\"\n",
    "    ),\n",
    ")"
   ]
  },
  {
   "cell_type": "markdown",
   "metadata": {
    "slideshow": {
     "slide_type": "subslide"
    }
   },
   "source": [
    "## Measuring brain structure and function:"
   ]
  },
  {
   "cell_type": "markdown",
   "metadata": {
    "slideshow": {
     "slide_type": "fragment"
    }
   },
   "source": [
    "We have ...\n",
    "- Resting-state functional recordings from MEG, fMRI functional networks"
   ]
  },
  {
   "cell_type": "markdown",
   "metadata": {
    "slideshow": {
     "slide_type": "fragment"
    }
   },
   "source": [
    " - Anatomical magnetic resonance images (MRIs) to co-register MEG coordinates to \"head\" coordinates"
   ]
  },
  {
   "cell_type": "markdown",
   "metadata": {
    "slideshow": {
     "slide_type": "fragment"
    }
   },
   "source": [
    " - Parcellated brain regions from MRI (68 cortical regions and 18 subcortical regions in our atlas of choice)"
   ]
  },
  {
   "cell_type": "markdown",
   "metadata": {
    "slideshow": {
     "slide_type": "fragment"
    }
   },
   "source": [
    " - Diffusion weighted imaging (DTI) for anatomical wiring architecture via tractography"
   ]
  },
  {
   "cell_type": "markdown",
   "metadata": {
    "slideshow": {
     "slide_type": "fragment"
    }
   },
   "source": [
    " - Hard working graduate students!"
   ]
  },
  {
   "cell_type": "markdown",
   "metadata": {
    "slideshow": {
     "slide_type": "subslide"
    }
   },
   "source": [
    "## Solving the structure-function problem: what's been done?"
   ]
  },
  {
   "cell_type": "markdown",
   "metadata": {
    "slideshow": {
     "slide_type": "fragment"
    }
   },
   "source": [
    "- fMRI, sensor and source space MEG/EEG modeling.\n",
    "\n",
    "<center>\n",
    "    <img src = \"../assets/conventional_NMM.png\" alt = \"NMM\" width = \"600\" style = \"align:center\"/>\n",
    "</center>\n",
    "\n",
    " - complex nonlinear simulations of whole brain activity combined with structural connectivity\n",
    "     - Too many parameters, interpretation is difficult.\n",
    "     - Has not been evaluated whether their models capture spatial patterns of activity."
   ]
  },
  {
   "cell_type": "markdown",
   "metadata": {
    "slideshow": {
     "slide_type": "subslide"
    }
   },
   "source": [
    "### Questions we aim to address:"
   ]
  },
  {
   "cell_type": "markdown",
   "metadata": {
    "slideshow": {
     "slide_type": "fragment"
    }
   },
   "source": [
    "<center><b> 1 - Can we extract canonical functional networks from structural networks?</b></center>"
   ]
  },
  {
   "cell_type": "markdown",
   "metadata": {
    "slideshow": {
     "slide_type": "fragment"
    }
   },
   "source": [
    "<center> <b> 2 - Can we reproduce empirical MEG frequency spectrum given a structural network? </b> </center>"
   ]
  },
  {
   "cell_type": "markdown",
   "metadata": {
    "slideshow": {
     "slide_type": "fragment"
    }
   },
   "source": [
    "<center><b> Can our model be simple? </b></center>\n",
    "<center> hierarchical: same model for microscopic and macroscopic network transmission </center>\n",
    "<center> low dimensional: small number of global model parameters </center>\n",
    "<center> analytical: no numerical simulations preferable</center>"
   ]
  },
  {
   "cell_type": "markdown",
   "metadata": {
    "slideshow": {
     "slide_type": "subslide"
    }
   },
   "source": [
    "### How do canonical functional networks arise from structural networks?"
   ]
  },
  {
   "cell_type": "markdown",
   "metadata": {
    "slideshow": {
     "slide_type": "fragment"
    }
   },
   "source": [
    "We have a new framework combining connectivity matrices and distance matrices that results in a complex structural connectome (Laplacian), on which we do an eigen decomposition analysis with only 2 global parameters, coupling strength $\\alpha$ and wave number $k$:\n",
    "<center>\n",
    "<img src = \"images/fig1_overview_v3.png\" alt = \"workflow\" width = \"1800\" style = \"align:center\"/>\n",
    "</center>\n",
    "<aside class=\"notes\">\n",
    "READ THE SLIDE\n",
    "\n",
    "Remember the rotating tractogram I showed before? And we extracted structural connetivitty matrix by counting white matter connections? That's the yellow and red matrix here. But we also want to obtain the distance of all our tracts and summarize them the same way in this blue and white matrix, calling it the distance adjacency matrix. The upper triangle here is scaled by alpha, the global coupling term, indicating how much of our signal comes from connections rather than local dynamics, the second parameter wave number is paired with the lower triangle, the wave number is a spatial frequency describing the amount of distance a signal in the brain travels per oscillation. With these 2 parameters, we can obtain this next matrix called the complex Laplacian. This matrix describes the characteristic signal spread patterns in a network with eigenmodes. Now imagine you are a signal in the brain, when you travel from region to region, it's not random, you must follow the brain's structural wiring, and this matrix tells you how these wirings would guide your signal. And if we project these patterns onto the brains, we can start comparing these eigenmodes to our functional networks!\n",
    "</aside>"
   ]
  },
  {
   "cell_type": "markdown",
   "metadata": {
    "slideshow": {
     "slide_type": "fragment"
    }
   },
   "source": [
    "Our goal is to relate the eigenmodes of the complex structural connectome to the canonical functional networks."
   ]
  },
  {
   "cell_type": "markdown",
   "metadata": {
    "slideshow": {
     "slide_type": "skip"
    }
   },
   "source": [
    "Delays become phases in the frequency domain, so we define a complex connectivity matrix as a function of $\\omega$: $\\pmb{C}^*(\\omega) = \\{ c_{j,k} exp(-j\\omega \\pmb{\\tau_{j,k}^v}) \\}$, then a normalized complex connectivity matrix at any given $\\omega$ is:\n",
    "$$ \\pmb{C}(\\omega) = diag(\\frac{1}{\\sqrt{\\pmb{deg}}}) \\pmb{C}^*(\\omega) $$"
   ]
  },
  {
   "cell_type": "markdown",
   "metadata": {
    "slideshow": {
     "slide_type": "skip"
    }
   },
   "source": [
    "Define the Laplacian: $ L(\\omega,\\tau^v) = I - \\alpha C(\\omega,\\tau^v)$, and $L(\\omega, \\tau^v)$ is an 86x86 complex matrix because we parcellated 86 brain regions."
   ]
  },
  {
   "cell_type": "markdown",
   "metadata": {
    "slideshow": {
     "slide_type": "skip"
    }
   },
   "source": [
    "Eigen decompose the Laplacian: $L(\\alpha,k) = U(\\alpha,k)\\Lambda(\\alpha,k)U^H(\\alpha,k)$\n",
    "\n",
    "We believe the eigenmodes $U(\\alpha,k)$ are a substrate of the brain's white matter connections on which functional activity plays out."
   ]
  },
  {
   "cell_type": "markdown",
   "metadata": {
    "slideshow": {
     "slide_type": "skip"
    }
   },
   "source": [
    "$U(\\alpha,k)$ is a vector whose numbers represent the magnitude of power in each parcellated brain region."
   ]
  },
  {
   "cell_type": "markdown",
   "metadata": {
    "slideshow": {
     "slide_type": "subslide"
    }
   },
   "source": [
    "## What do these eigenmodes look like?"
   ]
  },
  {
   "cell_type": "markdown",
   "metadata": {
    "slideshow": {
     "slide_type": "fragment"
    }
   },
   "source": [
    "We compare our findings with the conventional non-complex structural connectome.\n",
    "\n",
    "<center>\n",
    "<img src = \"images/eigmode_examples2.png\" alt = \"eig_examples\" width = \"1300\" style = \"align:center\"/>\n",
    "</center>"
   ]
  },
  {
   "cell_type": "markdown",
   "metadata": {
    "slideshow": {
     "slide_type": "subslide"
    }
   },
   "source": [
    "Eigenmodes of the complex Laplacian exhibit spatial patterns of canonical networks."
   ]
  },
  {
   "cell_type": "markdown",
   "metadata": {
    "slideshow": {
     "slide_type": "fragment"
    }
   },
   "source": [
    "<center>\n",
    "<img src = \"images/fig3_rescaled_compiled.png\" alt = \"fc_eig\" width = \"1100\"style = \"align:center\"/>\n",
    "</center>"
   ]
  },
  {
   "cell_type": "markdown",
   "metadata": {
    "slideshow": {
     "slide_type": "subslide"
    }
   },
   "source": [
    "#### Spatial pattern matching of complex Laplacian outperforms real Laplacian:"
   ]
  },
  {
   "cell_type": "markdown",
   "metadata": {
    "slideshow": {
     "slide_type": "fragment"
    }
   },
   "source": [
    "<center>\n",
    "<img src = \"images/pearson_residual.png\" alt = \"pearson\" width = \"1200\" style = \"align:center\"/>\n",
    "</center>"
   ]
  },
  {
   "cell_type": "markdown",
   "metadata": {
    "slideshow": {
     "slide_type": "skip"
    }
   },
   "source": [
    "### Next step: Examine the frequency spectrum of eigenmodes\n",
    "<center>\n",
    "<img src = \"../assets/SGM_1.png\" alt = \"SGM1\" width = \"1200\" style =\"align:center\"/>\n",
    "</center>"
   ]
  },
  {
   "cell_type": "markdown",
   "metadata": {
    "slideshow": {
     "slide_type": "slide"
    }
   },
   "source": [
    "<p style = \"text-align:center; font-size:200%;\"> Examine Frequency Spectrum with a Parsimonious Structure-Function Model </p>\n",
    "<center>\n",
    "<img src = \"../assets/SGM1_model.png\" alt = \"sg1\" width = \"600\" style =\"align:center\"/>\n",
    "</center>"
   ]
  },
  {
   "cell_type": "markdown",
   "metadata": {
    "slideshow": {
     "slide_type": "fragment"
    }
   },
   "source": [
    "and the structural eigenmodes act as spatial filters!\n",
    "<center>\n",
    "    <img src = \"images/intro_pysurfer.png\" alt = \"eigenmodes\" width = \"800\" style = \"align:center\"/> \n",
    "</center>"
   ]
  },
  {
   "cell_type": "markdown",
   "metadata": {
    "slideshow": {
     "slide_type": "skip"
    }
   },
   "source": [
    "Evaluating the eigen decomposition of the complex graph Laplacian: $L(\\omega) = U(\\omega)\\Lambda(\\omega)U^H(\\omega)$, and considering $U(\\omega)U^H(\\omega) = I$, our spectral graph model is defined as:\n",
    "$$ X(\\omega) = \\sum_{i} \\frac{u_i(\\omega) u_i^H (\\omega)}{j\\omega + \\frac{1}{\\tau_C} \\lambda_i F_e(\\omega)} H_{local}(\\omega) \\boldsymbol{P}(\\omega) $$"
   ]
  },
  {
   "cell_type": "markdown",
   "metadata": {
    "slideshow": {
     "slide_type": "subslide"
    }
   },
   "source": [
    "Frequency spectrum depends on structural connectomes:\n",
    "<center>\n",
    "<img src = \"../assets/SGM_fig2AB.png\" alt = \"sg3\" width = \"1000\" style =\"align:center\"/>\n",
    "</center>"
   ]
  },
  {
   "cell_type": "markdown",
   "metadata": {
    "slideshow": {
     "slide_type": "subslide"
    }
   },
   "source": [
    "Frequency spectrums for uniform and random connectomes:\n",
    "<center>\n",
    "<img src = \"../assets/SGM_fig2CD.png\" alt = \"sg4\" width = \"1000\" style =\"align:center\"/>\n",
    "</center>"
   ]
  },
  {
   "cell_type": "markdown",
   "metadata": {
    "slideshow": {
     "slide_type": "subslide"
    }
   },
   "source": [
    "Introducing sparsity:\n",
    "<center>\n",
    "<img src = \"../assets/SGM_fig2EF.png\" alt = \"sg5\" width = \"1000\" style =\"align:center\"/>\n",
    "</center>\n",
    "\n",
    "<aside class=\"notes\">\n",
    "Frame this in actual neuro anatomy: if you have all to all connection or random connection that's filled up between your brain regions, you have no direction of your signal spread, your signal is just scattering all over the place randomly or all to all. But if there's sparsity like in actual humans, the signal spread is more directed according to your anatomy.\n",
    "</aside>"
   ]
  },
  {
   "cell_type": "markdown",
   "metadata": {
    "slideshow": {
     "slide_type": "subslide"
    }
   },
   "source": [
    "#### Parameter inference with Markov Chain Monte Carlo simulations (MCMC):"
   ]
  },
  {
   "cell_type": "markdown",
   "metadata": {
    "slideshow": {
     "slide_type": "fragment"
    }
   },
   "source": [
    "- 15 Random walkers scan through the space of 5 global parameters\n",
    "- Model will produce simulated frequency spectrum and try to match empirical MEG spectrum"
   ]
  },
  {
   "cell_type": "markdown",
   "metadata": {
    "slideshow": {
     "slide_type": "fragment"
    }
   },
   "source": [
    "<center>\n",
    "<img src = \"../assets/mcmc_animated.gif\" alt = \"mcmc_gif\" width = \"700\" style =\"align:center\"/>\n",
    "</center>"
   ]
  },
  {
   "cell_type": "markdown",
   "metadata": {
    "slideshow": {
     "slide_type": "skip"
    }
   },
   "source": [
    "### Did our walkers find highly probable parameters that reproduce MEG spectrum?"
   ]
  },
  {
   "cell_type": "markdown",
   "metadata": {
    "slideshow": {
     "slide_type": "skip"
    }
   },
   "source": [
    "<center>\n",
    "<img src = \"../assets/SGM_mcmc_params.png\" alt = \"mcmc\" width = \"1200\" style =\"align:center\"/>\n",
    "</center>"
   ]
  },
  {
   "cell_type": "markdown",
   "metadata": {
    "slideshow": {
     "slide_type": "subslide"
    }
   },
   "source": [
    "Group level comparison:\n",
    "<center>\n",
    "<img src = \"../assets/SGM_ave_spectrum.png\" alt = \"sg7\" width = \"1000\" style =\"align:center\"/>\n",
    "</center>"
   ]
  },
  {
   "cell_type": "markdown",
   "metadata": {
    "slideshow": {
     "slide_type": "slide"
    }
   },
   "source": [
    "Spatial Patterns in Alpha-band:\n",
    "\n",
    "<center>\n",
    "<img src = \"../assets/SGM_alpha_spatial.png\" alt = \"sg7\" width = \"1100\" style =\"align:center\"/>\n",
    "</center>"
   ]
  },
  {
   "cell_type": "markdown",
   "metadata": {
    "slideshow": {
     "slide_type": "subslide"
    }
   },
   "source": [
    "Spatial Patterns in Beta-band:\n",
    "\n",
    "<center>\n",
    "<img src = \"../assets/SGM_beta_spatial.png\" alt = \"sg7\" width = \"1100\" style =\"align:center\"/>\n",
    "</center>"
   ]
  },
  {
   "cell_type": "markdown",
   "metadata": {
    "slideshow": {
     "slide_type": "subslide"
    }
   },
   "source": [
    "Spectral graph model performance:\n",
    "<center>\n",
    "    <img src = \"../assets/SGM_spatial_violin.png\" alt = \"model_comparison\" width = \"1200\" style = \"align:center\"/>\n",
    "</center>"
   ]
  },
  {
   "cell_type": "markdown",
   "metadata": {
    "slideshow": {
     "slide_type": "slide"
    }
   },
   "source": [
    "## Take-aways\n",
    " - We extracted canonical functional patterns of brain activity via complex-valued structural eigenmodes.\n",
    " - MEG Alpha and beta band activity can be mapped to individual complex-valued structural eigenmodes.\n",
    " - Our model captures BOTH frequency patterns as well as spatial patterns of brain activity while being parsimonious."
   ]
  },
  {
   "cell_type": "markdown",
   "metadata": {
    "slideshow": {
     "slide_type": "subslide"
    }
   },
   "source": [
    "Thank You For Listening\n",
    "---\n",
    "\n",
    " - Former PostDoc Dr. Pablo Damasceno contributed a lot to this project, now a data scientist at UCSF's Center for Intelligence Imaging.\n",
    " - Dr. Srikantan Nagarajan (UCSF) is a close collaborator and contributed a lot to this project.\n",
    " - Check out the [open source repository for this project](https://github.com/Raj-Lab-UCSF/spectrome)\n",
    " - Stay tuned for the world's first [GPU based tractography library](https://www.protocols.io/private/57B53B66EBB411E9837D0242AC110002)!"
   ]
  },
  {
   "cell_type": "code",
   "execution_count": null,
   "metadata": {},
   "outputs": [],
   "source": []
  }
 ],
 "metadata": {
  "kernelspec": {
   "display_name": "Python (spectrome)",
   "language": "python",
   "name": "spectrome"
  },
  "language_info": {
   "codemirror_mode": {
    "name": "ipython",
    "version": 3
   },
   "file_extension": ".py",
   "mimetype": "text/x-python",
   "name": "python",
   "nbconvert_exporter": "python",
   "pygments_lexer": "ipython3",
   "version": "3.8.1"
  }
 },
 "nbformat": 4,
 "nbformat_minor": 4
}
